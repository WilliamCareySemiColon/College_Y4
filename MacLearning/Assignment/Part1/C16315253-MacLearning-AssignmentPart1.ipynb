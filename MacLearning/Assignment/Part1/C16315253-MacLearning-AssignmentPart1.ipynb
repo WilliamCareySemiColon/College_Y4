{
 "cells": [
  {
   "cell_type": "code",
   "execution_count": 7,
   "metadata": {
    "scrolled": false
   },
   "outputs": [
    {
     "name": "stdout",
     "output_type": "stream",
     "text": [
      "Creating the files to write to\n",
      "Parsing the files\n",
      "Writing the data to the files - please wait until complete\n",
      "Process has been completed\n"
     ]
    }
   ],
   "source": [
    "#Author; William Carey\n",
    "#Student Id: C16315253\n",
    "#Assignment 1\n",
    "\n",
    "#import libraries\n",
    "import pandas as pd\n",
    "import csv\n",
    "\n",
    "#create the keys that describe the features we are using to index\n",
    "ContIndexes = [\"age\",\"fnlwgt\",\"education-num\",\"capital-gain\",\"capital-loss\",\"hours-per-week\"]\n",
    "CatIndexes = [\"workclass\",\"education\",\"martial-status\",\"occupation\",\"relationship\",\"race\",\"sex\",\"native-country\",\"target\"]\n",
    "\n",
    "#create the writers to the files that we are working with\n",
    "print(\"Creating the files to write to\")\n",
    "ConCSVFile = open(\"AssignmentDocs//C16315253Cont.csv\",\"w\",newline = \"\")\n",
    "ConCSVWriter = csv.writer(ConCSVFile,delimiter = ',')\n",
    "CatCSVFile = open(\"AssignmentDocs//C16315253Cat.csv\",\"w\",newline = \"\")\n",
    "CatCSVWriter = csv.writer(CatCSVFile,delimiter = ',')\n",
    "\n",
    "#Create the two headers to store our data\n",
    "StandardColumnNames = [\"FeatureName\",\"Count\",\"% Miss\", \"Card\"]\n",
    "ContinCSVFileHeaders = StandardColumnNames + [\"Min\",\"1st Qrt\",\"Mean\",\"Median\",\"3rd Qrt\",\"Max\", \"Std Dev\"]\n",
    "CatCSVFileHeaders = StandardColumnNames + [\"Mode\",\"Mode Freq\",\"Mode %\",\"2nd Mode\",\"2nd Mode Freq\",\"2nd Mode %\"]\n",
    "\n",
    "#reading and parsing the columns headers from the text file\n",
    "print(\"Parsing the files\")\n",
    "columnsName = open(\".//Data//feature_names.txt\")\n",
    "text_reader = columnsName.read()\n",
    "dataFrame = pd.read_csv(\".//Data//dataset.txt\", header = None, na_values = [\"?\", \" ?\", \"? \"])\n",
    "dataFrame.columns = text_reader.split(\"\\n\")\n",
    "\n",
    "#dataFrame.head()\n",
    "print(\"Writing the data to the files - please wait until complete\")\n",
    "#writing the headers to the files before we proceed to gather the data\n",
    "ConCSVWriter.writerow(ContinCSVFileHeaders)\n",
    "CatCSVWriter.writerow(CatCSVFileHeaders)\n",
    "\n",
    "#filter out the features of the application for both categorical and continous\n",
    "for key in dataFrame.columns:\n",
    "    #variables for calculation purpose\n",
    "    calulationCount = dataFrame[key].count()\n",
    "    MissingCount = dataFrame[key].isnull().sum()\n",
    "    Cardinal = len(dataFrame[key].unique())\n",
    "    \n",
    "    #variables for writing to csv file\n",
    "    FeatureName = str(key)\n",
    "    FeatureCount = str(calulationCount)\n",
    "    FeatureMissingCount = str(\"%.2f\" % ((MissingCount / calulationCount) * 100))\n",
    "    CardinalFeature = str(Cardinal)\n",
    "    \n",
    "    if(key in CatIndexes):\n",
    "        #getting the dict together\n",
    "        FeatureDict = dict(dataFrame[key].value_counts())\n",
    "        ModeNoCount = 0\n",
    "        #variable to work with the first mode\n",
    "        FirstModeElement = \"\"\n",
    "        FirstModeCount = 0\n",
    "        FirstModeFrequency = 0\n",
    "        \n",
    "        #second mode variables\n",
    "        SecondModeElement = \"\"\n",
    "        SecondModeCount = 0\n",
    "        SecondModeFrequency = 0\n",
    "        \n",
    "        ModeDict = {}\n",
    "        #iterate over dictionary to get the first two modes\n",
    "        for DictKey in FeatureDict:\n",
    "            ModeCount = FeatureDict[DictKey]\n",
    "            if(ModeNoCount == 0):\n",
    "                FirstModeElement = DictKey\n",
    "                FirstModeCount = FeatureDict[DictKey]\n",
    "                FirstModeFrequency = (int(ModeCount) / calulationCount) * 100 \n",
    "            \n",
    "            if(ModeNoCount == 1):\n",
    "                SecondModeElement = DictKey\n",
    "                SecondModeCount = FeatureDict[DictKey]\n",
    "                SecondModeFrequency = (int(ModeCount) / calulationCount) * 100 \n",
    "            \n",
    "            ModeNoCount = ModeNoCount + 1\n",
    "            if(ModeNoCount == 2):\n",
    "                break\n",
    "        #end inner for loop\n",
    "    \n",
    "        CatDataCollection = [FeatureName,FeatureCount,FeatureMissingCount,CardinalFeature,\n",
    "                         str(FirstModeElement),str(FirstModeCount),\n",
    "                         str(\"%.2f\" % FirstModeFrequency), str(SecondModeElement),\n",
    "                         str(SecondModeCount),str(\"%.2f\" % SecondModeFrequency)]\n",
    "        \n",
    "        #writing the data to the file\n",
    "        CatCSVWriter.writerow(CatDataCollection)\n",
    "    #end collecting the category data\n",
    "    \n",
    "    #Now collecting the contin data features\n",
    "    if(key in ContIndexes):\n",
    "        Min = dataFrame[key].min()\n",
    "        Max = dataFrame[key].max()\n",
    "        Median = dataFrame[key].median()\n",
    "        Mean = dataFrame[key].mean()\n",
    "        FirstQrt = dataFrame[key].quantile(.25)\n",
    "        ThirdQrt = dataFrame[key].quantile(.75)\n",
    "        Std = dataFrame[key].std()\n",
    "        \n",
    "        ContDataCollection = [FeatureName,FeatureCount,FeatureMissingCount,CardinalFeature,\n",
    "            str(Min),str(FirstQrt),str(\"%.2f\" % Mean), str(Median),str(ThirdQrt),str(Max),\n",
    "                              str(\"%.2f\" % Std)]\n",
    "        #writng the data to the contin\n",
    "        ConCSVWriter.writerow(ContDataCollection)\n",
    "    #end collecting the contin data\n",
    "        \n",
    "#end outer for loop\n",
    "\n",
    "#close the files after writing \n",
    "ConCSVFile.close()\n",
    "CatCSVFile.close()\n",
    "print(\"Process has been completed\")"
   ]
  },
  {
   "cell_type": "code",
   "execution_count": 3,
   "metadata": {},
   "outputs": [
    {
     "data": {
      "text/plain": [
       "{'count': 30940.0,\n",
       " 'mean': 38.56076276664512,\n",
       " 'std': 13.639403068812152,\n",
       " 'min': 17.0,\n",
       " '25%': 28.0,\n",
       " '50%': 37.0,\n",
       " '75%': 48.0,\n",
       " 'max': 90.0}"
      ]
     },
     "execution_count": 3,
     "metadata": {},
     "output_type": "execute_result"
    }
   ],
   "source": [
    "dict(dataFrame.age.describe())"
   ]
  }
 ],
 "metadata": {
  "kernelspec": {
   "display_name": "Python 3",
   "language": "python",
   "name": "python3"
  },
  "language_info": {
   "codemirror_mode": {
    "name": "ipython",
    "version": 3
   },
   "file_extension": ".py",
   "mimetype": "text/x-python",
   "name": "python",
   "nbconvert_exporter": "python",
   "pygments_lexer": "ipython3",
   "version": "3.7.2"
  }
 },
 "nbformat": 4,
 "nbformat_minor": 2
}
