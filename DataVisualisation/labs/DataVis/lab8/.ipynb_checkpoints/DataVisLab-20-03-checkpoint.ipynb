{
 "cells": [
  {
   "cell_type": "code",
   "execution_count": null,
   "metadata": {},
   "outputs": [],
   "source": [
    "#This speech was originally delivered as the commencement address at Harvard University on June 5, 2008.  \n",
    "#The full title of this talk is “The Fringe Benefits of Failure, and the Importance of Imagination”.\n",
    "#Delivered by JK Rowling\n",
    "#First published by the harvard gazetee\n",
    "#url:https://news.harvard.edu/gazette/story/2008/06/text-of-j-k-rowling-speech/"
   ]
  }
 ],
 "metadata": {
  "kernelspec": {
   "display_name": "R",
   "language": "R",
   "name": "ir"
  },
  "language_info": {
   "codemirror_mode": "r",
   "file_extension": ".r",
   "mimetype": "text/x-r-source",
   "name": "R",
   "pygments_lexer": "r",
   "version": "3.6.2"
  }
 },
 "nbformat": 4,
 "nbformat_minor": 2
}
