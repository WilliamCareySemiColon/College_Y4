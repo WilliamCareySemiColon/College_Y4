{
 "cells": [
  {
   "cell_type": "code",
   "execution_count": 13,
   "metadata": {
    "scrolled": false
   },
   "outputs": [],
   "source": [
    "import pandas as pd\n",
    "\n",
    "#read in all the data from the csv file to the dataframe \n",
    "df = pd.read_csv(\"nutrition.csv\")\n",
    "\n",
    "df.saturated_fat.fillna(\"0g\",inplace = True)\n",
    "\n",
    "#gather the needed data from the dataframe and split them into the accrding dataframes, such as the fat dataframe\n",
    "df2 = df[['Id','name','serving_size','calories','total_fat','saturated_fat','cholesterol','protein','alanine','arginine',\n",
    "          'aspartic_acid','cystine','glutamic_acid','glycine','histidine','hydroxyproline','isoleucine','leucine','lysine',\n",
    "          'methionine', 'phenylalanine', 'proline','serine','threonine','tryptophan','tyrosine','valine','carbohydrate',\n",
    "          'fiber','sugars','fructose', 'galactose','glucose','lactose','maltose','sucrose','fat','saturated_fatty_acids',\n",
    "          'monounsaturated_fatty_acids','polyunsaturated_fatty_acids', 'fatty_acids_total_trans','water']]\n",
    "\n",
    "###########################################################################################################################\n",
    "##Cover water and fiber\n",
    "WaterDF = df[['Id','name',\"serving_size\",'water']]\n",
    "\n",
    "fiberDF = df[['Id','name',\"serving_size\",'fiber']]\n",
    "\n",
    "##Start the fat process\n",
    "\n",
    "UnsaturatedFat = df[['Id','name','serving_size','total_fat','monounsaturated_fatty_acids','polyunsaturated_fatty_acids']]\n",
    "\n",
    "BadFatDF = df[['Id','name','serving_size','total_fat','saturated_fat','saturated_fatty_acids','fatty_acids_total_trans']]\n",
    "\n",
    "CholesterolDF = df[['Id','name','serving_size','total_fat','cholesterol']]\n",
    "\n",
    "#cover the carbs factor\n",
    "MonosaccharideDF = df[['Id', 'name','serving_size','carbohydrate','fructose', 'galactose','glucose']]\n",
    "\n",
    "DisaccharideDF = df[['Id', 'name','serving_size','carbohydrate','lactose','maltose','sucrose']]\n",
    "\n",
    "CarbsDF = df[['Id', 'name','serving_size','carbohydrate']]\n",
    "\n",
    "SugarDF = df[['Id', 'name','serving_size','sugars']]\n",
    "\n",
    "#cover the protein aspect\n",
    "NonEssentialProteinDF = df[['Id','name','serving_size','protein','alanine','arginine','aspartic_acid','cystine',\n",
    "                            'glutamic_acid','glycine','hydroxyproline','proline','serine','tyrosine']]\n",
    "\n",
    "EssentialProteinDF = df[['Id','name','serving_size','protein','histidine','isoleucine',\n",
    "                         'leucine','lysine','methionine','phenylalanine','threonine','tryptophan','valine']]\n",
    "\n",
    "###########################################################################################################################\n",
    "\n",
    "#df.head()"
   ]
  },
  {
   "cell_type": "code",
   "execution_count": 21,
   "metadata": {
    "scrolled": true
   },
   "outputs": [],
   "source": [
    "#df2.head()\n",
    "\n",
    "##Cover water and fiber\n",
    "WaterDF = df[['Id','name',\"serving_size\",'water']]\n",
    "\n",
    "fiberDF = df[['Id','name',\"serving_size\",'fiber']]\n",
    "\n",
    "##Start the fat process\n",
    "\n",
    "UnsaturatedFatDF = df[['Id','name','serving_size','total_fat','monounsaturated_fatty_acids','polyunsaturated_fatty_acids']]\n",
    "\n",
    "SaturatedFatDF = df[['Id','name','serving_size','total_fat','saturated_fat','saturated_fatty_acids','fatty_acids_total_trans']]\n",
    "\n",
    "CholesterolDF = df[['Id','name','serving_size','total_fat','cholesterol']]\n",
    "\n",
    "#cover the carbs factor\n",
    "MonosaccharideDF = df[['Id', 'name','serving_size','carbohydrate','fructose', 'galactose','glucose']]\n",
    "\n",
    "DisaccharideDF = df[['Id', 'name','serving_size','carbohydrate','lactose','maltose','sucrose']]\n",
    "\n",
    "CarbsDF = df[['Id', 'name','serving_size','carbohydrate']]\n",
    "\n",
    "SugarDF = df[['Id', 'name','serving_size','sugars']]\n",
    "\n",
    "#cover the protein aspect\n",
    "NonEssentialProteinDF = df[['Id','name','serving_size','protein','alanine','arginine','aspartic_acid','cystine',\n",
    "                            'glutamic_acid','glycine','hydroxyproline','proline','serine','tyrosine']]\n",
    "\n",
    "EssentialProteinDF = df[['Id','name','serving_size','protein','histidine','isoleucine',\n",
    "                         'leucine','lysine','methionine','phenylalanine','threonine','tryptophan','valine']]\n",
    "\n",
    "###########################################################################################################################\n",
    "\n",
    "#df.head()[\"monounsaturated_fatty_acids\",\"polyunsaturated_fatty_acids\"]"
   ]
  },
  {
   "cell_type": "code",
   "execution_count": 22,
   "metadata": {
    "scrolled": true
   },
   "outputs": [
    {
     "data": {
      "text/html": [
       "<div>\n",
       "<style scoped>\n",
       "    .dataframe tbody tr th:only-of-type {\n",
       "        vertical-align: middle;\n",
       "    }\n",
       "\n",
       "    .dataframe tbody tr th {\n",
       "        vertical-align: top;\n",
       "    }\n",
       "\n",
       "    .dataframe thead th {\n",
       "        text-align: right;\n",
       "    }\n",
       "</style>\n",
       "<table border=\"1\" class=\"dataframe\">\n",
       "  <thead>\n",
       "    <tr style=\"text-align: right;\">\n",
       "      <th></th>\n",
       "      <th>Id</th>\n",
       "      <th>name</th>\n",
       "      <th>serving_size</th>\n",
       "      <th>total_fat</th>\n",
       "      <th>monounsaturated_fatty_acids</th>\n",
       "      <th>polyunsaturated_fatty_acids</th>\n",
       "    </tr>\n",
       "  </thead>\n",
       "  <tbody>\n",
       "    <tr>\n",
       "      <th>8271</th>\n",
       "      <td>8271</td>\n",
       "      <td>Beef, braised, cooked, all grades, trimmed to ...</td>\n",
       "      <td>100 g</td>\n",
       "      <td>21g</td>\n",
       "      <td>9.997 g</td>\n",
       "      <td>0.884 g</td>\n",
       "    </tr>\n",
       "    <tr>\n",
       "      <th>5599</th>\n",
       "      <td>5599</td>\n",
       "      <td>Infant Formula, powder, Infant, Premium, ENFAM...</td>\n",
       "      <td>100 g</td>\n",
       "      <td>27g</td>\n",
       "      <td>9.987 g</td>\n",
       "      <td>5.213 g</td>\n",
       "    </tr>\n",
       "    <tr>\n",
       "      <th>6399</th>\n",
       "      <td>6399</td>\n",
       "      <td>Infant Formula, powder, Infant, Premium LIPIL,...</td>\n",
       "      <td>100 g</td>\n",
       "      <td>27g</td>\n",
       "      <td>9.987 g</td>\n",
       "      <td>5.213 g</td>\n",
       "    </tr>\n",
       "  </tbody>\n",
       "</table>\n",
       "</div>"
      ],
      "text/plain": [
       "        Id                                               name serving_size  \\\n",
       "8271  8271  Beef, braised, cooked, all grades, trimmed to ...        100 g   \n",
       "5599  5599  Infant Formula, powder, Infant, Premium, ENFAM...        100 g   \n",
       "6399  6399  Infant Formula, powder, Infant, Premium LIPIL,...        100 g   \n",
       "\n",
       "     total_fat monounsaturated_fatty_acids polyunsaturated_fatty_acids  \n",
       "8271       21g                     9.997 g                     0.884 g  \n",
       "5599       27g                     9.987 g                     5.213 g  \n",
       "6399       27g                     9.987 g                     5.213 g  "
      ]
     },
     "execution_count": 22,
     "metadata": {},
     "output_type": "execute_result"
    }
   ],
   "source": [
    "#FatDF.head()\n",
    "UnsaturatedFatDF.sort_values(by=[\"monounsaturated_fatty_acids\",\"polyunsaturated_fatty_acids\"], \n",
    "                  ascending = False).head(3)#.to_csv(\"FATDF.csv\")"
   ]
  },
  {
   "cell_type": "code",
   "execution_count": 23,
   "metadata": {},
   "outputs": [
    {
     "data": {
      "text/html": [
       "<div>\n",
       "<style scoped>\n",
       "    .dataframe tbody tr th:only-of-type {\n",
       "        vertical-align: middle;\n",
       "    }\n",
       "\n",
       "    .dataframe tbody tr th {\n",
       "        vertical-align: top;\n",
       "    }\n",
       "\n",
       "    .dataframe thead th {\n",
       "        text-align: right;\n",
       "    }\n",
       "</style>\n",
       "<table border=\"1\" class=\"dataframe\">\n",
       "  <thead>\n",
       "    <tr style=\"text-align: right;\">\n",
       "      <th></th>\n",
       "      <th>Id</th>\n",
       "      <th>name</th>\n",
       "      <th>serving_size</th>\n",
       "      <th>total_fat</th>\n",
       "      <th>cholesterol</th>\n",
       "    </tr>\n",
       "  </thead>\n",
       "  <tbody>\n",
       "    <tr>\n",
       "      <th>3407</th>\n",
       "      <td>3407</td>\n",
       "      <td>Restaurant, spaghetti with meat sauce, Italian</td>\n",
       "      <td>100 g</td>\n",
       "      <td>3.6g</td>\n",
       "      <td>9mg</td>\n",
       "    </tr>\n",
       "    <tr>\n",
       "      <th>3788</th>\n",
       "      <td>3788</td>\n",
       "      <td>Dip, cheese and salsa- medium, salsa con queso</td>\n",
       "      <td>100 g</td>\n",
       "      <td>9.5g</td>\n",
       "      <td>9mg</td>\n",
       "    </tr>\n",
       "    <tr>\n",
       "      <th>3260</th>\n",
       "      <td>3260</td>\n",
       "      <td>Candies, MILKY WAY Bar, MARS SNACKFOOD US</td>\n",
       "      <td>100 g</td>\n",
       "      <td>17g</td>\n",
       "      <td>9mg</td>\n",
       "    </tr>\n",
       "  </tbody>\n",
       "</table>\n",
       "</div>"
      ],
      "text/plain": [
       "        Id                                            name serving_size  \\\n",
       "3407  3407  Restaurant, spaghetti with meat sauce, Italian        100 g   \n",
       "3788  3788  Dip, cheese and salsa- medium, salsa con queso        100 g   \n",
       "3260  3260       Candies, MILKY WAY Bar, MARS SNACKFOOD US        100 g   \n",
       "\n",
       "     total_fat cholesterol  \n",
       "3407      3.6g         9mg  \n",
       "3788      9.5g         9mg  \n",
       "3260       17g         9mg  "
      ]
     },
     "execution_count": 23,
     "metadata": {},
     "output_type": "execute_result"
    }
   ],
   "source": [
    "CholesterolDF.sort_values(by='cholesterol', \n",
    "                  ascending = False).head(3)#.to_csv(\"FATDF.csv\")"
   ]
  },
  {
   "cell_type": "code",
   "execution_count": 20,
   "metadata": {
    "scrolled": false
   },
   "outputs": [
    {
     "data": {
      "text/html": [
       "<div>\n",
       "<style scoped>\n",
       "    .dataframe tbody tr th:only-of-type {\n",
       "        vertical-align: middle;\n",
       "    }\n",
       "\n",
       "    .dataframe tbody tr th {\n",
       "        vertical-align: top;\n",
       "    }\n",
       "\n",
       "    .dataframe thead th {\n",
       "        text-align: right;\n",
       "    }\n",
       "</style>\n",
       "<table border=\"1\" class=\"dataframe\">\n",
       "  <thead>\n",
       "    <tr style=\"text-align: right;\">\n",
       "      <th></th>\n",
       "      <th>Id</th>\n",
       "      <th>name</th>\n",
       "      <th>serving_size</th>\n",
       "      <th>total_fat</th>\n",
       "      <th>saturated_fat</th>\n",
       "      <th>saturated_fatty_acids</th>\n",
       "      <th>fatty_acids_total_trans</th>\n",
       "    </tr>\n",
       "  </thead>\n",
       "  <tbody>\n",
       "    <tr>\n",
       "      <th>2253</th>\n",
       "      <td>2253</td>\n",
       "      <td>Fish oil, fully hydrogenated, menhaden</td>\n",
       "      <td>100 g</td>\n",
       "      <td>100g</td>\n",
       "      <td>96g</td>\n",
       "      <td>95.600 g</td>\n",
       "      <td>500.00 mg</td>\n",
       "    </tr>\n",
       "    <tr>\n",
       "      <th>2077</th>\n",
       "      <td>2077</td>\n",
       "      <td>Oil, fully hydrogenated, soy, industrial</td>\n",
       "      <td>100 g</td>\n",
       "      <td>100g</td>\n",
       "      <td>94g</td>\n",
       "      <td>93.966 g</td>\n",
       "      <td>0.00 mg</td>\n",
       "    </tr>\n",
       "    <tr>\n",
       "      <th>8782</th>\n",
       "      <td>8782</td>\n",
       "      <td>Oil, uses similar to 95 degree hard butter, co...</td>\n",
       "      <td>100 g</td>\n",
       "      <td>100g</td>\n",
       "      <td>94g</td>\n",
       "      <td>93.701 g</td>\n",
       "      <td>0.00 mg</td>\n",
       "    </tr>\n",
       "  </tbody>\n",
       "</table>\n",
       "</div>"
      ],
      "text/plain": [
       "        Id                                               name serving_size  \\\n",
       "2253  2253             Fish oil, fully hydrogenated, menhaden        100 g   \n",
       "2077  2077           Oil, fully hydrogenated, soy, industrial        100 g   \n",
       "8782  8782  Oil, uses similar to 95 degree hard butter, co...        100 g   \n",
       "\n",
       "     total_fat saturated_fat saturated_fatty_acids fatty_acids_total_trans  \n",
       "2253      100g           96g              95.600 g               500.00 mg  \n",
       "2077      100g           94g              93.966 g                 0.00 mg  \n",
       "8782      100g           94g              93.701 g                 0.00 mg  "
      ]
     },
     "execution_count": 20,
     "metadata": {},
     "output_type": "execute_result"
    }
   ],
   "source": [
    "SaturatedFatDF.sort_values(by=['saturated_fatty_acids','fatty_acids_total_trans'], \n",
    "                  ascending = False).head(3)#.to_csv(\"FATDF.csv\")"
   ]
  },
  {
   "cell_type": "code",
   "execution_count": 24,
   "metadata": {
    "scrolled": true
   },
   "outputs": [
    {
     "data": {
      "text/html": [
       "<div>\n",
       "<style scoped>\n",
       "    .dataframe tbody tr th:only-of-type {\n",
       "        vertical-align: middle;\n",
       "    }\n",
       "\n",
       "    .dataframe tbody tr th {\n",
       "        vertical-align: top;\n",
       "    }\n",
       "\n",
       "    .dataframe thead th {\n",
       "        text-align: right;\n",
       "    }\n",
       "</style>\n",
       "<table border=\"1\" class=\"dataframe\">\n",
       "  <thead>\n",
       "    <tr style=\"text-align: right;\">\n",
       "      <th></th>\n",
       "      <th>Id</th>\n",
       "      <th>name</th>\n",
       "      <th>serving_size</th>\n",
       "      <th>carbohydrate</th>\n",
       "      <th>fructose</th>\n",
       "      <th>galactose</th>\n",
       "      <th>glucose</th>\n",
       "    </tr>\n",
       "  </thead>\n",
       "  <tbody>\n",
       "    <tr>\n",
       "      <th>3955</th>\n",
       "      <td>3955</td>\n",
       "      <td>Cranberry sauce, OCEAN SPRAY, canned, jellied</td>\n",
       "      <td>100 g</td>\n",
       "      <td>40.61 g</td>\n",
       "      <td>9.80 g</td>\n",
       "      <td>0.00 g</td>\n",
       "      <td>17.80 g</td>\n",
       "    </tr>\n",
       "    <tr>\n",
       "      <th>1509</th>\n",
       "      <td>1509</td>\n",
       "      <td>Cranberry sauce, sweetened, canned</td>\n",
       "      <td>100 g</td>\n",
       "      <td>40.40 g</td>\n",
       "      <td>9.75 g</td>\n",
       "      <td>0.00 g</td>\n",
       "      <td>17.45 g</td>\n",
       "    </tr>\n",
       "    <tr>\n",
       "      <th>2913</th>\n",
       "      <td>2913</td>\n",
       "      <td>Cranberry sauce, OCEAN SPRAY, canned, whole</td>\n",
       "      <td>100 g</td>\n",
       "      <td>40.40 g</td>\n",
       "      <td>9.70 g</td>\n",
       "      <td>0.00 g</td>\n",
       "      <td>17.10 g</td>\n",
       "    </tr>\n",
       "  </tbody>\n",
       "</table>\n",
       "</div>"
      ],
      "text/plain": [
       "        Id                                           name serving_size  \\\n",
       "3955  3955  Cranberry sauce, OCEAN SPRAY, canned, jellied        100 g   \n",
       "1509  1509             Cranberry sauce, sweetened, canned        100 g   \n",
       "2913  2913    Cranberry sauce, OCEAN SPRAY, canned, whole        100 g   \n",
       "\n",
       "     carbohydrate fructose galactose  glucose  \n",
       "3955      40.61 g   9.80 g    0.00 g  17.80 g  \n",
       "1509      40.40 g   9.75 g    0.00 g  17.45 g  \n",
       "2913      40.40 g   9.70 g    0.00 g  17.10 g  "
      ]
     },
     "execution_count": 24,
     "metadata": {},
     "output_type": "execute_result"
    }
   ],
   "source": [
    "MonosaccharideDF.sort_values(by=['fructose', 'galactose','glucose'], ascending = False).head(3)#.to_csv(\"CarbsDF.csv\")"
   ]
  },
  {
   "cell_type": "code",
   "execution_count": 25,
   "metadata": {},
   "outputs": [
    {
     "data": {
      "text/html": [
       "<div>\n",
       "<style scoped>\n",
       "    .dataframe tbody tr th:only-of-type {\n",
       "        vertical-align: middle;\n",
       "    }\n",
       "\n",
       "    .dataframe tbody tr th {\n",
       "        vertical-align: top;\n",
       "    }\n",
       "\n",
       "    .dataframe thead th {\n",
       "        text-align: right;\n",
       "    }\n",
       "</style>\n",
       "<table border=\"1\" class=\"dataframe\">\n",
       "  <thead>\n",
       "    <tr style=\"text-align: right;\">\n",
       "      <th></th>\n",
       "      <th>Id</th>\n",
       "      <th>name</th>\n",
       "      <th>serving_size</th>\n",
       "      <th>carbohydrate</th>\n",
       "      <th>lactose</th>\n",
       "      <th>maltose</th>\n",
       "      <th>sucrose</th>\n",
       "    </tr>\n",
       "  </thead>\n",
       "  <tbody>\n",
       "    <tr>\n",
       "      <th>8346</th>\n",
       "      <td>8346</td>\n",
       "      <td>Infant formula, with ARA and DHA, ready-to-fee...</td>\n",
       "      <td>100 g</td>\n",
       "      <td>8.73 g</td>\n",
       "      <td>8.30 g</td>\n",
       "      <td>0</td>\n",
       "      <td>0</td>\n",
       "    </tr>\n",
       "    <tr>\n",
       "      <th>1000</th>\n",
       "      <td>1000</td>\n",
       "      <td>Candies, KIT KAT Wafer Bar</td>\n",
       "      <td>100 g</td>\n",
       "      <td>64.59 g</td>\n",
       "      <td>8.21 g</td>\n",
       "      <td>0.07 g</td>\n",
       "      <td>40.04 g</td>\n",
       "    </tr>\n",
       "    <tr>\n",
       "      <th>7546</th>\n",
       "      <td>7546</td>\n",
       "      <td>Infant formula, with ARA and DHA, ready-to-fee...</td>\n",
       "      <td>100 g</td>\n",
       "      <td>8.20 g</td>\n",
       "      <td>8.20 g</td>\n",
       "      <td>0</td>\n",
       "      <td>0</td>\n",
       "    </tr>\n",
       "  </tbody>\n",
       "</table>\n",
       "</div>"
      ],
      "text/plain": [
       "        Id                                               name serving_size  \\\n",
       "8346  8346  Infant formula, with ARA and DHA, ready-to-fee...        100 g   \n",
       "1000  1000                         Candies, KIT KAT Wafer Bar        100 g   \n",
       "7546  7546  Infant formula, with ARA and DHA, ready-to-fee...        100 g   \n",
       "\n",
       "     carbohydrate lactose maltose  sucrose  \n",
       "8346       8.73 g  8.30 g       0        0  \n",
       "1000      64.59 g  8.21 g  0.07 g  40.04 g  \n",
       "7546       8.20 g  8.20 g       0        0  "
      ]
     },
     "execution_count": 25,
     "metadata": {},
     "output_type": "execute_result"
    }
   ],
   "source": [
    "DisaccharideDF.sort_values(by=['lactose','maltose','sucrose'], ascending = False).head(3)#.to_csv(\"CarbsDF.csv\")"
   ]
  },
  {
   "cell_type": "code",
   "execution_count": 26,
   "metadata": {
    "scrolled": false
   },
   "outputs": [
    {
     "data": {
      "text/html": [
       "<div>\n",
       "<style scoped>\n",
       "    .dataframe tbody tr th:only-of-type {\n",
       "        vertical-align: middle;\n",
       "    }\n",
       "\n",
       "    .dataframe tbody tr th {\n",
       "        vertical-align: top;\n",
       "    }\n",
       "\n",
       "    .dataframe thead th {\n",
       "        text-align: right;\n",
       "    }\n",
       "</style>\n",
       "<table border=\"1\" class=\"dataframe\">\n",
       "  <thead>\n",
       "    <tr style=\"text-align: right;\">\n",
       "      <th></th>\n",
       "      <th>Id</th>\n",
       "      <th>name</th>\n",
       "      <th>serving_size</th>\n",
       "      <th>carbohydrate</th>\n",
       "    </tr>\n",
       "  </thead>\n",
       "  <tbody>\n",
       "    <tr>\n",
       "      <th>328</th>\n",
       "      <td>328</td>\n",
       "      <td>Sugars, granulated</td>\n",
       "      <td>100 g</td>\n",
       "      <td>99.98 g</td>\n",
       "    </tr>\n",
       "    <tr>\n",
       "      <th>435</th>\n",
       "      <td>435</td>\n",
       "      <td>Sugar, turbinado</td>\n",
       "      <td>100 g</td>\n",
       "      <td>99.80 g</td>\n",
       "    </tr>\n",
       "    <tr>\n",
       "      <th>407</th>\n",
       "      <td>407</td>\n",
       "      <td>Sugars, powdered</td>\n",
       "      <td>100 g</td>\n",
       "      <td>99.77 g</td>\n",
       "    </tr>\n",
       "  </tbody>\n",
       "</table>\n",
       "</div>"
      ],
      "text/plain": [
       "      Id                name serving_size carbohydrate\n",
       "328  328  Sugars, granulated        100 g      99.98 g\n",
       "435  435    Sugar, turbinado        100 g      99.80 g\n",
       "407  407    Sugars, powdered        100 g      99.77 g"
      ]
     },
     "execution_count": 26,
     "metadata": {},
     "output_type": "execute_result"
    }
   ],
   "source": [
    "CarbsDF.sort_values(by='carbohydrate', ascending = False).head(3)#.to_csv(\"CarbsDF.csv\")"
   ]
  },
  {
   "cell_type": "code",
   "execution_count": 27,
   "metadata": {},
   "outputs": [
    {
     "data": {
      "text/html": [
       "<div>\n",
       "<style scoped>\n",
       "    .dataframe tbody tr th:only-of-type {\n",
       "        vertical-align: middle;\n",
       "    }\n",
       "\n",
       "    .dataframe tbody tr th {\n",
       "        vertical-align: top;\n",
       "    }\n",
       "\n",
       "    .dataframe thead th {\n",
       "        text-align: right;\n",
       "    }\n",
       "</style>\n",
       "<table border=\"1\" class=\"dataframe\">\n",
       "  <thead>\n",
       "    <tr style=\"text-align: right;\">\n",
       "      <th></th>\n",
       "      <th>Id</th>\n",
       "      <th>name</th>\n",
       "      <th>serving_size</th>\n",
       "      <th>sugars</th>\n",
       "    </tr>\n",
       "  </thead>\n",
       "  <tbody>\n",
       "    <tr>\n",
       "      <th>328</th>\n",
       "      <td>328</td>\n",
       "      <td>Sugars, granulated</td>\n",
       "      <td>100 g</td>\n",
       "      <td>99.80 g</td>\n",
       "    </tr>\n",
       "    <tr>\n",
       "      <th>435</th>\n",
       "      <td>435</td>\n",
       "      <td>Sugar, turbinado</td>\n",
       "      <td>100 g</td>\n",
       "      <td>99.19 g</td>\n",
       "    </tr>\n",
       "    <tr>\n",
       "      <th>407</th>\n",
       "      <td>407</td>\n",
       "      <td>Sugars, powdered</td>\n",
       "      <td>100 g</td>\n",
       "      <td>97.81 g</td>\n",
       "    </tr>\n",
       "  </tbody>\n",
       "</table>\n",
       "</div>"
      ],
      "text/plain": [
       "      Id                name serving_size   sugars\n",
       "328  328  Sugars, granulated        100 g  99.80 g\n",
       "435  435    Sugar, turbinado        100 g  99.19 g\n",
       "407  407    Sugars, powdered        100 g  97.81 g"
      ]
     },
     "execution_count": 27,
     "metadata": {},
     "output_type": "execute_result"
    }
   ],
   "source": [
    "#sugars\n",
    "SugarDF.sort_values(by='sugars', ascending = False).head(3)#.to_csv(\"CarbsDF.csv\")"
   ]
  },
  {
   "cell_type": "code",
   "execution_count": 15,
   "metadata": {
    "scrolled": true
   },
   "outputs": [
    {
     "data": {
      "text/html": [
       "<div>\n",
       "<style scoped>\n",
       "    .dataframe tbody tr th:only-of-type {\n",
       "        vertical-align: middle;\n",
       "    }\n",
       "\n",
       "    .dataframe tbody tr th {\n",
       "        vertical-align: top;\n",
       "    }\n",
       "\n",
       "    .dataframe thead th {\n",
       "        text-align: right;\n",
       "    }\n",
       "</style>\n",
       "<table border=\"1\" class=\"dataframe\">\n",
       "  <thead>\n",
       "    <tr style=\"text-align: right;\">\n",
       "      <th></th>\n",
       "      <th>Id</th>\n",
       "      <th>name</th>\n",
       "      <th>serving_size</th>\n",
       "      <th>protein</th>\n",
       "      <th>alanine</th>\n",
       "      <th>arginine</th>\n",
       "      <th>aspartic_acid</th>\n",
       "      <th>cystine</th>\n",
       "      <th>glutamic_acid</th>\n",
       "      <th>glycine</th>\n",
       "      <th>hydroxyproline</th>\n",
       "      <th>proline</th>\n",
       "      <th>serine</th>\n",
       "      <th>tyrosine</th>\n",
       "    </tr>\n",
       "  </thead>\n",
       "  <tbody>\n",
       "    <tr>\n",
       "      <th>1618</th>\n",
       "      <td>1618</td>\n",
       "      <td>Gelatins, unsweetened, dry powder</td>\n",
       "      <td>100 g</td>\n",
       "      <td>85.60 g</td>\n",
       "      <td>8.009 g</td>\n",
       "      <td>6.616 g</td>\n",
       "      <td>5.265 g</td>\n",
       "      <td>0.000 g</td>\n",
       "      <td>8.753 g</td>\n",
       "      <td>19.049 g</td>\n",
       "      <td>0</td>\n",
       "      <td>12.295 g</td>\n",
       "      <td>2.605 g</td>\n",
       "      <td>0.303 g</td>\n",
       "    </tr>\n",
       "    <tr>\n",
       "      <th>1087</th>\n",
       "      <td>1087</td>\n",
       "      <td>Snacks, plain, pork skins</td>\n",
       "      <td>100 g</td>\n",
       "      <td>61.30 g</td>\n",
       "      <td>5.811 g</td>\n",
       "      <td>4.841 g</td>\n",
       "      <td>4.469 g</td>\n",
       "      <td>0.529 g</td>\n",
       "      <td>7.625 g</td>\n",
       "      <td>11.917 g</td>\n",
       "      <td>0</td>\n",
       "      <td>7.262 g</td>\n",
       "      <td>2.597 g</td>\n",
       "      <td>1.205 g</td>\n",
       "    </tr>\n",
       "    <tr>\n",
       "      <th>7259</th>\n",
       "      <td>7259</td>\n",
       "      <td>Gelatin desserts, no added sodium, with aspart...</td>\n",
       "      <td>100 g</td>\n",
       "      <td>55.30 g</td>\n",
       "      <td>5.790 g</td>\n",
       "      <td>4.784 g</td>\n",
       "      <td>3.807 g</td>\n",
       "      <td>0.000 g</td>\n",
       "      <td>6.328 g</td>\n",
       "      <td>13.773 g</td>\n",
       "      <td>0</td>\n",
       "      <td>8.890 g</td>\n",
       "      <td>1.884 g</td>\n",
       "      <td>0.219 g</td>\n",
       "    </tr>\n",
       "  </tbody>\n",
       "</table>\n",
       "</div>"
      ],
      "text/plain": [
       "        Id                                               name serving_size  \\\n",
       "1618  1618                  Gelatins, unsweetened, dry powder        100 g   \n",
       "1087  1087                          Snacks, plain, pork skins        100 g   \n",
       "7259  7259  Gelatin desserts, no added sodium, with aspart...        100 g   \n",
       "\n",
       "      protein  alanine arginine aspartic_acid  cystine glutamic_acid  \\\n",
       "1618  85.60 g  8.009 g  6.616 g       5.265 g  0.000 g       8.753 g   \n",
       "1087  61.30 g  5.811 g  4.841 g       4.469 g  0.529 g       7.625 g   \n",
       "7259  55.30 g  5.790 g  4.784 g       3.807 g  0.000 g       6.328 g   \n",
       "\n",
       "       glycine hydroxyproline   proline   serine tyrosine  \n",
       "1618  19.049 g              0  12.295 g  2.605 g  0.303 g  \n",
       "1087  11.917 g              0   7.262 g  2.597 g  1.205 g  \n",
       "7259  13.773 g              0   8.890 g  1.884 g  0.219 g  "
      ]
     },
     "execution_count": 15,
     "metadata": {},
     "output_type": "execute_result"
    }
   ],
   "source": [
    "#NonEssentialProteinDF.head(20) \n",
    "NonEssentialProteinDF.sort_values(by=[\"alanine\",\"arginine\",\"aspartic_acid\",\"cystine\",\"glutamic_acid\",\"glycine\",\n",
    "                                      \"hydroxyproline\",\"proline\",\"serine\",\"tyrosine\"],\n",
    "                                  ascending = False).head(3)#.to_csv(\"NonEssentialProteinDF.csv\")"
   ]
  },
  {
   "cell_type": "code",
   "execution_count": 16,
   "metadata": {},
   "outputs": [
    {
     "data": {
      "text/html": [
       "<div>\n",
       "<style scoped>\n",
       "    .dataframe tbody tr th:only-of-type {\n",
       "        vertical-align: middle;\n",
       "    }\n",
       "\n",
       "    .dataframe tbody tr th {\n",
       "        vertical-align: top;\n",
       "    }\n",
       "\n",
       "    .dataframe thead th {\n",
       "        text-align: right;\n",
       "    }\n",
       "</style>\n",
       "<table border=\"1\" class=\"dataframe\">\n",
       "  <thead>\n",
       "    <tr style=\"text-align: right;\">\n",
       "      <th></th>\n",
       "      <th>Id</th>\n",
       "      <th>name</th>\n",
       "      <th>serving_size</th>\n",
       "      <th>protein</th>\n",
       "      <th>histidine</th>\n",
       "      <th>isoleucine</th>\n",
       "      <th>leucine</th>\n",
       "      <th>lysine</th>\n",
       "      <th>methionine</th>\n",
       "      <th>phenylalanine</th>\n",
       "      <th>threonine</th>\n",
       "      <th>tryptophan</th>\n",
       "      <th>valine</th>\n",
       "    </tr>\n",
       "  </thead>\n",
       "  <tbody>\n",
       "    <tr>\n",
       "      <th>3089</th>\n",
       "      <td>3089</td>\n",
       "      <td>Whale, dried (Alaska Native), meat, beluga</td>\n",
       "      <td>100 g</td>\n",
       "      <td>69.86 g</td>\n",
       "      <td>2.999 g</td>\n",
       "      <td>2.684 g</td>\n",
       "      <td>5.778 g</td>\n",
       "      <td>6.313 g</td>\n",
       "      <td>1.353 g</td>\n",
       "      <td>2.947 g</td>\n",
       "      <td>2.726 g</td>\n",
       "      <td>0.797 g</td>\n",
       "      <td>2.810 g</td>\n",
       "    </tr>\n",
       "    <tr>\n",
       "      <th>4401</th>\n",
       "      <td>4401</td>\n",
       "      <td>Seal, dried (Alaska Native), meat, bearded (Oo...</td>\n",
       "      <td>100 g</td>\n",
       "      <td>82.60 g</td>\n",
       "      <td>2.947 g</td>\n",
       "      <td>3.134 g</td>\n",
       "      <td>6.386 g</td>\n",
       "      <td>6.690 g</td>\n",
       "      <td>1.684 g</td>\n",
       "      <td>3.275 g</td>\n",
       "      <td>3.228 g</td>\n",
       "      <td>0.795 g</td>\n",
       "      <td>3.228 g</td>\n",
       "    </tr>\n",
       "    <tr>\n",
       "      <th>213</th>\n",
       "      <td>213</td>\n",
       "      <td>Soy protein isolate</td>\n",
       "      <td>100 g</td>\n",
       "      <td>88.32 g</td>\n",
       "      <td>2.303 g</td>\n",
       "      <td>4.253 g</td>\n",
       "      <td>6.783 g</td>\n",
       "      <td>5.327 g</td>\n",
       "      <td>1.130 g</td>\n",
       "      <td>4.593 g</td>\n",
       "      <td>3.137 g</td>\n",
       "      <td>1.116 g</td>\n",
       "      <td>4.098 g</td>\n",
       "    </tr>\n",
       "  </tbody>\n",
       "</table>\n",
       "</div>"
      ],
      "text/plain": [
       "        Id                                               name serving_size  \\\n",
       "3089  3089         Whale, dried (Alaska Native), meat, beluga        100 g   \n",
       "4401  4401  Seal, dried (Alaska Native), meat, bearded (Oo...        100 g   \n",
       "213    213                                Soy protein isolate        100 g   \n",
       "\n",
       "      protein histidine isoleucine  leucine   lysine methionine phenylalanine  \\\n",
       "3089  69.86 g   2.999 g    2.684 g  5.778 g  6.313 g    1.353 g       2.947 g   \n",
       "4401  82.60 g   2.947 g    3.134 g  6.386 g  6.690 g    1.684 g       3.275 g   \n",
       "213   88.32 g   2.303 g    4.253 g  6.783 g  5.327 g    1.130 g       4.593 g   \n",
       "\n",
       "     threonine tryptophan   valine  \n",
       "3089   2.726 g    0.797 g  2.810 g  \n",
       "4401   3.228 g    0.795 g  3.228 g  \n",
       "213    3.137 g    1.116 g  4.098 g  "
      ]
     },
     "execution_count": 16,
     "metadata": {},
     "output_type": "execute_result"
    }
   ],
   "source": [
    "#EssentialProteinDF.head(20)\n",
    "EssentialProteinDF.sort_values(by=[\"histidine\",\"isoleucine\",\"leucine\",\"lysine\",\"methionine\",\"phenylalanine\",\"threonine\",\n",
    "                                   \"tryptophan\",\"valine\"],ascending = False).head(3)#.to_csv(\"EssentialProteinDF.csv\")"
   ]
  },
  {
   "cell_type": "code",
   "execution_count": 17,
   "metadata": {
    "scrolled": true
   },
   "outputs": [
    {
     "data": {
      "text/html": [
       "<div>\n",
       "<style scoped>\n",
       "    .dataframe tbody tr th:only-of-type {\n",
       "        vertical-align: middle;\n",
       "    }\n",
       "\n",
       "    .dataframe tbody tr th {\n",
       "        vertical-align: top;\n",
       "    }\n",
       "\n",
       "    .dataframe thead th {\n",
       "        text-align: right;\n",
       "    }\n",
       "</style>\n",
       "<table border=\"1\" class=\"dataframe\">\n",
       "  <thead>\n",
       "    <tr style=\"text-align: right;\">\n",
       "      <th></th>\n",
       "      <th>Id</th>\n",
       "      <th>name</th>\n",
       "      <th>serving_size</th>\n",
       "      <th>fiber</th>\n",
       "    </tr>\n",
       "  </thead>\n",
       "  <tbody>\n",
       "    <tr>\n",
       "      <th>1930</th>\n",
       "      <td>1930</td>\n",
       "      <td>Snacks, cheese-flavor, popcorn</td>\n",
       "      <td>100 g</td>\n",
       "      <td>9.9 g</td>\n",
       "    </tr>\n",
       "    <tr>\n",
       "      <th>2467</th>\n",
       "      <td>2467</td>\n",
       "      <td>Bananas, or banana powder, dehydrated</td>\n",
       "      <td>100 g</td>\n",
       "      <td>9.9 g</td>\n",
       "    </tr>\n",
       "    <tr>\n",
       "      <th>1257</th>\n",
       "      <td>1257</td>\n",
       "      <td>Nuts, blanched, almonds</td>\n",
       "      <td>100 g</td>\n",
       "      <td>9.9 g</td>\n",
       "    </tr>\n",
       "  </tbody>\n",
       "</table>\n",
       "</div>"
      ],
      "text/plain": [
       "        Id                                   name serving_size  fiber\n",
       "1930  1930         Snacks, cheese-flavor, popcorn        100 g  9.9 g\n",
       "2467  2467  Bananas, or banana powder, dehydrated        100 g  9.9 g\n",
       "1257  1257                Nuts, blanched, almonds        100 g  9.9 g"
      ]
     },
     "execution_count": 17,
     "metadata": {},
     "output_type": "execute_result"
    }
   ],
   "source": [
    "#FiberDF.head()\n",
    "FiberDF.sort_values(by='fiber',ascending = False).head(3)#.to_csv(\"FiberDF.csv\")"
   ]
  },
  {
   "cell_type": "code",
   "execution_count": 18,
   "metadata": {
    "scrolled": false
   },
   "outputs": [
    {
     "data": {
      "text/html": [
       "<div>\n",
       "<style scoped>\n",
       "    .dataframe tbody tr th:only-of-type {\n",
       "        vertical-align: middle;\n",
       "    }\n",
       "\n",
       "    .dataframe tbody tr th {\n",
       "        vertical-align: top;\n",
       "    }\n",
       "\n",
       "    .dataframe thead th {\n",
       "        text-align: right;\n",
       "    }\n",
       "</style>\n",
       "<table border=\"1\" class=\"dataframe\">\n",
       "  <thead>\n",
       "    <tr style=\"text-align: right;\">\n",
       "      <th></th>\n",
       "      <th>Id</th>\n",
       "      <th>name</th>\n",
       "      <th>serving_size</th>\n",
       "      <th>water</th>\n",
       "    </tr>\n",
       "  </thead>\n",
       "  <tbody>\n",
       "    <tr>\n",
       "      <th>1240</th>\n",
       "      <td>1240</td>\n",
       "      <td>Water, generic, bottled</td>\n",
       "      <td>100 g</td>\n",
       "      <td>99.98 g</td>\n",
       "    </tr>\n",
       "    <tr>\n",
       "      <th>4668</th>\n",
       "      <td>4668</td>\n",
       "      <td>Beverages, DANNON, non-carbonated, bottled, water</td>\n",
       "      <td>100 g</td>\n",
       "      <td>99.98 g</td>\n",
       "    </tr>\n",
       "    <tr>\n",
       "      <th>6768</th>\n",
       "      <td>6768</td>\n",
       "      <td>Beverages, DANNON Fluoride To Go, non-carbonat...</td>\n",
       "      <td>100 g</td>\n",
       "      <td>99.97 g</td>\n",
       "    </tr>\n",
       "  </tbody>\n",
       "</table>\n",
       "</div>"
      ],
      "text/plain": [
       "        Id                                               name serving_size  \\\n",
       "1240  1240                            Water, generic, bottled        100 g   \n",
       "4668  4668  Beverages, DANNON, non-carbonated, bottled, water        100 g   \n",
       "6768  6768  Beverages, DANNON Fluoride To Go, non-carbonat...        100 g   \n",
       "\n",
       "        water  \n",
       "1240  99.98 g  \n",
       "4668  99.98 g  \n",
       "6768  99.97 g  "
      ]
     },
     "execution_count": 18,
     "metadata": {},
     "output_type": "execute_result"
    }
   ],
   "source": [
    "#WaterDF.head()\n",
    "WaterDF.sort_values(by = \"water\", ascending = False).head(3)"
   ]
  },
  {
   "cell_type": "code",
   "execution_count": null,
   "metadata": {},
   "outputs": [],
   "source": []
  },
  {
   "cell_type": "code",
   "execution_count": null,
   "metadata": {},
   "outputs": [],
   "source": []
  },
  {
   "cell_type": "code",
   "execution_count": null,
   "metadata": {},
   "outputs": [],
   "source": []
  },
  {
   "cell_type": "code",
   "execution_count": null,
   "metadata": {},
   "outputs": [],
   "source": []
  },
  {
   "cell_type": "code",
   "execution_count": 29,
   "metadata": {},
   "outputs": [],
   "source": [
    "datasetsFolder = \"./NewerDatasets/\""
   ]
  },
  {
   "cell_type": "code",
   "execution_count": null,
   "metadata": {},
   "outputs": [],
   "source": []
  },
  {
   "cell_type": "code",
   "execution_count": 30,
   "metadata": {
    "scrolled": true
   },
   "outputs": [],
   "source": [
    "#creating the datasets from the main one part two - water aspect \n",
    "df2.sort_values(by = 'water', ascending = False).head(20).to_csv(datasetsFolder + \"WaterDF.csv\")"
   ]
  },
  {
   "cell_type": "code",
   "execution_count": 31,
   "metadata": {},
   "outputs": [],
   "source": [
    "#fiber\n",
    "df2.sort_values(by='fiber',ascending = False).head(20).to_csv(datasetsFolder +\"FiberDF.csv\")"
   ]
  },
  {
   "cell_type": "code",
   "execution_count": 32,
   "metadata": {},
   "outputs": [],
   "source": [
    "#BadFatDF\n",
    "df2.sort_values(by = [\"monounsaturated_fatty_acids\",\"polyunsaturated_fatty_acids\"], \n",
    "                ascending = False).head(20).to_csv(datasetsFolder + \"UnsaturatedFatDF.csv\")"
   ]
  },
  {
   "cell_type": "code",
   "execution_count": 33,
   "metadata": {},
   "outputs": [],
   "source": [
    "#goodFat\n",
    "df2.sort_values(by = ['saturated_fat','saturated_fatty_acids','fatty_acids_total_trans'], \n",
    "                ascending = False).head(20).to_csv(datasetsFolder + \"SaturatedFatDF.csv\")"
   ]
  },
  {
   "cell_type": "code",
   "execution_count": 34,
   "metadata": {},
   "outputs": [],
   "source": [
    "#cholesterol\n",
    "df2.sort_values(by = 'cholesterol', ascending = False).head(20).to_csv(datasetsFolder + \"CholesterolDF.csv\")"
   ]
  },
  {
   "cell_type": "code",
   "execution_count": 35,
   "metadata": {},
   "outputs": [],
   "source": [
    "df2.sort_values(by = 'total_fat', ascending = False).head(20).to_csv(datasetsFolder + \"total_fat.csv\")"
   ]
  },
  {
   "cell_type": "code",
   "execution_count": 36,
   "metadata": {},
   "outputs": [],
   "source": [
    "#Carbs\n",
    "df2.sort_values(by = [\"fructose\",\"galactose\",\"glucose\"], \n",
    "                ascending = False).head(20).to_csv(datasetsFolder + \"MonosaccharideDF.csv\")"
   ]
  },
  {
   "cell_type": "code",
   "execution_count": 37,
   "metadata": {},
   "outputs": [],
   "source": [
    "df2.sort_values(by = ['lactose','maltose','sucrose'], \n",
    "                ascending = False).head(20).to_csv(datasetsFolder + \"DisaccharideDF.csv\")"
   ]
  },
  {
   "cell_type": "code",
   "execution_count": 38,
   "metadata": {},
   "outputs": [],
   "source": [
    "df2.sort_values(by = 'carbohydrate', ascending = False).head(20).to_csv(datasetsFolder + \"CarbsDF.csv\")"
   ]
  },
  {
   "cell_type": "code",
   "execution_count": 39,
   "metadata": {},
   "outputs": [],
   "source": [
    "df2.sort_values(by = 'sugars', ascending = False).head(20).to_csv(datasetsFolder + \"SugarDF.csv\")"
   ]
  },
  {
   "cell_type": "code",
   "execution_count": 40,
   "metadata": {},
   "outputs": [],
   "source": [
    "#NonEssentialProteinDF\n",
    "df2.sort_values(by=[\"alanine\",\"arginine\",\"aspartic_acid\",\"cystine\",\"glutamic_acid\",\"glycine\",\"hydroxyproline\",\"proline\",\n",
    "                    \"serine\",\"tyrosine\"],ascending = False).head(20).to_csv(datasetsFolder +\"NonEssentialProteinDF.csv\")"
   ]
  },
  {
   "cell_type": "code",
   "execution_count": 41,
   "metadata": {
    "scrolled": true
   },
   "outputs": [],
   "source": [
    "#EssentialProteinDF\n",
    "df2.sort_values(by=[\"histidine\",\"isoleucine\",\"leucine\",\"lysine\",\"methionine\",\"phenylalanine\",\"threonine\",\"tryptophan\",\n",
    "                    \"valine\"],ascending = False).head(20).to_csv(datasetsFolder +\"EssentialProteinDF.csv\")"
   ]
  },
  {
   "cell_type": "code",
   "execution_count": 42,
   "metadata": {},
   "outputs": [],
   "source": [
    "df2.sort_values(by='protein',ascending = False).head(20).to_csv(datasetsFolder +\"protein.csv\")"
   ]
  }
 ],
 "metadata": {
  "kernelspec": {
   "display_name": "Python 3",
   "language": "python",
   "name": "python3"
  },
  "language_info": {
   "codemirror_mode": {
    "name": "ipython",
    "version": 3
   },
   "file_extension": ".py",
   "mimetype": "text/x-python",
   "name": "python",
   "nbconvert_exporter": "python",
   "pygments_lexer": "ipython3",
   "version": "3.7.2"
  }
 },
 "nbformat": 4,
 "nbformat_minor": 2
}
